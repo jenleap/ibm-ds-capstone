{
 "cells": [
  {
   "cell_type": "markdown",
   "metadata": {},
   "source": [
    "<h1>Segmenting and Clustering Neighborhoods in Toronto</h1>"
   ]
  },
  {
   "cell_type": "markdown",
   "metadata": {},
   "source": [
    "<p>Import the required libraries.</p>"
   ]
  },
  {
   "cell_type": "code",
   "execution_count": 4,
   "metadata": {},
   "outputs": [],
   "source": [
    "import requests\n",
    "from bs4 import BeautifulSoup\n",
    "import numpy as np\n",
    "import pandas as pd"
   ]
  },
  {
   "cell_type": "markdown",
   "metadata": {},
   "source": [
    "<p>From Wikipedia, get an html page that contains a list of postal codes for Toronto.</p>"
   ]
  },
  {
   "cell_type": "code",
   "execution_count": 5,
   "metadata": {},
   "outputs": [],
   "source": [
    "wiki_link = \"https://en.wikipedia.org/wiki/List_of_postal_codes_of_Canada:_M\"\n",
    "raw_wiki_page = requests.get(wiki_link)\n",
    "page_text = raw_wiki_page.text"
   ]
  },
  {
   "cell_type": "markdown",
   "metadata": {},
   "source": [
    "<p>Parse the page using BeautifulSoup.</p>"
   ]
  },
  {
   "cell_type": "code",
   "execution_count": 6,
   "metadata": {},
   "outputs": [],
   "source": [
    "soup = BeautifulSoup(page_text, \"html.parser\")"
   ]
  },
  {
   "cell_type": "markdown",
   "metadata": {},
   "source": [
    "<p>Find the table body, then select all the rows.</p>"
   ]
  },
  {
   "cell_type": "code",
   "execution_count": 7,
   "metadata": {},
   "outputs": [],
   "source": [
    "codes_table = soup.find(\"tbody\")\n",
    "table_rows = codes_table.find_all('tr')"
   ]
  },
  {
   "cell_type": "markdown",
   "metadata": {},
   "source": [
    "<p>Iterate through the rows. For each cell in each row, grab the text, append it to a new list (rows) then append the list to the data list.</p>"
   ]
  },
  {
   "cell_type": "code",
   "execution_count": 8,
   "metadata": {},
   "outputs": [],
   "source": [
    "data = [[], [], []]\n",
    "columns = [\"PostalCode\", \"Borough\", \"Neighborhood\"]\n",
    "for row in table_rows:\n",
    "    data_cells = row.find_all('td')\n",
    "    rows = []\n",
    "    for cell in data_cells:\n",
    "         rows.append(cell.get_text(strip=True))\n",
    "    data.append(rows)"
   ]
  },
  {
   "cell_type": "markdown",
   "metadata": {},
   "source": [
    "<p>Create a dataframe from the data list. Remove rows where Borough is Not Assigned. Remove rows with values of None. Where Neighborhood is Not Assigned, replace with the value from the Borough column.</p>"
   ]
  },
  {
   "cell_type": "code",
   "execution_count": 9,
   "metadata": {},
   "outputs": [],
   "source": [
    "df = pd.DataFrame(data=data, columns=columns)\n",
    "df = df[df.Borough != \"Not assigned\"]\n",
    "df = df.dropna()\n",
    "df = df.reset_index(drop=True)\n",
    "df['Neighborhood'] = np.where(df['Neighborhood'] == \"Not assigned\", df['Borough'], df['Neighborhood'])\n"
   ]
  },
  {
   "cell_type": "markdown",
   "metadata": {},
   "source": [
    "<p>Define a method which joins the Neighborhoods for common Boroughs into a String. Group the Boroughs and run the create_list method.</p>"
   ]
  },
  {
   "cell_type": "code",
   "execution_count": 10,
   "metadata": {},
   "outputs": [
    {
     "data": {
      "text/html": [
       "<div>\n",
       "<style scoped>\n",
       "    .dataframe tbody tr th:only-of-type {\n",
       "        vertical-align: middle;\n",
       "    }\n",
       "\n",
       "    .dataframe tbody tr th {\n",
       "        vertical-align: top;\n",
       "    }\n",
       "\n",
       "    .dataframe thead th {\n",
       "        text-align: right;\n",
       "    }\n",
       "</style>\n",
       "<table border=\"1\" class=\"dataframe\">\n",
       "  <thead>\n",
       "    <tr style=\"text-align: right;\">\n",
       "      <th></th>\n",
       "      <th>Borough</th>\n",
       "      <th>PostalCode</th>\n",
       "      <th>Neighborhood</th>\n",
       "    </tr>\n",
       "  </thead>\n",
       "  <tbody>\n",
       "    <tr>\n",
       "      <th>0</th>\n",
       "      <td>Central Toronto</td>\n",
       "      <td>M4N</td>\n",
       "      <td>Lawrence Park, Roselawn, Davisville North, For...</td>\n",
       "    </tr>\n",
       "    <tr>\n",
       "      <th>1</th>\n",
       "      <td>Downtown Toronto</td>\n",
       "      <td>M5A</td>\n",
       "      <td>Harbourfront, Regent Park, Ryerson, Garden Dis...</td>\n",
       "    </tr>\n",
       "    <tr>\n",
       "      <th>2</th>\n",
       "      <td>East Toronto</td>\n",
       "      <td>M4E</td>\n",
       "      <td>The Beaches, The Danforth West, Riverdale, The...</td>\n",
       "    </tr>\n",
       "    <tr>\n",
       "      <th>3</th>\n",
       "      <td>East York</td>\n",
       "      <td>M4B</td>\n",
       "      <td>Woodbine Gardens, Parkview Hill, Woodbine Heig...</td>\n",
       "    </tr>\n",
       "    <tr>\n",
       "      <th>4</th>\n",
       "      <td>Etobicoke</td>\n",
       "      <td>M9A</td>\n",
       "      <td>Islington Avenue, Cloverdale, Islington, Marti...</td>\n",
       "    </tr>\n",
       "    <tr>\n",
       "      <th>5</th>\n",
       "      <td>Mississauga</td>\n",
       "      <td>M7R</td>\n",
       "      <td>Canada Post Gateway Processing Centre</td>\n",
       "    </tr>\n",
       "    <tr>\n",
       "      <th>6</th>\n",
       "      <td>North York</td>\n",
       "      <td>M3A</td>\n",
       "      <td>Parkwoods, Victoria Village, Lawrence Heights,...</td>\n",
       "    </tr>\n",
       "    <tr>\n",
       "      <th>7</th>\n",
       "      <td>Queen's Park</td>\n",
       "      <td>M7A</td>\n",
       "      <td>Queen's Park</td>\n",
       "    </tr>\n",
       "    <tr>\n",
       "      <th>8</th>\n",
       "      <td>Scarborough</td>\n",
       "      <td>M1B</td>\n",
       "      <td>Rouge, Malvern, Highland Creek, Rouge Hill, Po...</td>\n",
       "    </tr>\n",
       "    <tr>\n",
       "      <th>9</th>\n",
       "      <td>West Toronto</td>\n",
       "      <td>M6H</td>\n",
       "      <td>Dovercourt Village, Dufferin, Little Portugal,...</td>\n",
       "    </tr>\n",
       "    <tr>\n",
       "      <th>10</th>\n",
       "      <td>York</td>\n",
       "      <td>M6C</td>\n",
       "      <td>Humewood-Cedarvale, Caledonia-Fairbanks, Del R...</td>\n",
       "    </tr>\n",
       "  </tbody>\n",
       "</table>\n",
       "</div>"
      ],
      "text/plain": [
       "             Borough PostalCode  \\\n",
       "0    Central Toronto        M4N   \n",
       "1   Downtown Toronto        M5A   \n",
       "2       East Toronto        M4E   \n",
       "3          East York        M4B   \n",
       "4          Etobicoke        M9A   \n",
       "5        Mississauga        M7R   \n",
       "6         North York        M3A   \n",
       "7       Queen's Park        M7A   \n",
       "8        Scarborough        M1B   \n",
       "9       West Toronto        M6H   \n",
       "10              York        M6C   \n",
       "\n",
       "                                         Neighborhood  \n",
       "0   Lawrence Park, Roselawn, Davisville North, For...  \n",
       "1   Harbourfront, Regent Park, Ryerson, Garden Dis...  \n",
       "2   The Beaches, The Danforth West, Riverdale, The...  \n",
       "3   Woodbine Gardens, Parkview Hill, Woodbine Heig...  \n",
       "4   Islington Avenue, Cloverdale, Islington, Marti...  \n",
       "5               Canada Post Gateway Processing Centre  \n",
       "6   Parkwoods, Victoria Village, Lawrence Heights,...  \n",
       "7                                        Queen's Park  \n",
       "8   Rouge, Malvern, Highland Creek, Rouge Hill, Po...  \n",
       "9   Dovercourt Village, Dufferin, Little Portugal,...  \n",
       "10  Humewood-Cedarvale, Caledonia-Fairbanks, Del R...  "
      ]
     },
     "execution_count": 10,
     "metadata": {},
     "output_type": "execute_result"
    }
   ],
   "source": [
    "def create_list(x):\n",
    "    return ', '.join(x)\n",
    "\n",
    "df = df.groupby('Borough', as_index=False).agg({'PostalCode': 'first', 'Neighborhood': create_list})\n",
    "df"
   ]
  },
  {
   "cell_type": "markdown",
   "metadata": {},
   "source": [
    "<h2>Part Two</h2>"
   ]
  },
  {
   "cell_type": "code",
   "execution_count": 11,
   "metadata": {},
   "outputs": [],
   "source": [
    "%matplotlib inline \n",
    "\n",
    "import matplotlib as mpl\n",
    "import matplotlib.pyplot as plt\n",
    "\n",
    "#!conda install -c conda-forge folium=0.5.0 --yes\n",
    "import folium"
   ]
  },
  {
   "cell_type": "markdown",
   "metadata": {},
   "source": [
    "<p>Read geospatial coordinates from csv file and merge this dataframe into our exisiting dataframe.</p>"
   ]
  },
  {
   "cell_type": "code",
   "execution_count": 12,
   "metadata": {},
   "outputs": [],
   "source": [
    "geo_coords = pd.read_csv('Geospatial_Coordinates.csv')"
   ]
  },
  {
   "cell_type": "code",
   "execution_count": 16,
   "metadata": {},
   "outputs": [],
   "source": [
    "geo_coords.rename(columns={'Postal Code': 'PostalCode'}, inplace=True)\n",
    "#geo_coords.head()"
   ]
  },
  {
   "cell_type": "code",
   "execution_count": 17,
   "metadata": {},
   "outputs": [
    {
     "data": {
      "text/html": [
       "<div>\n",
       "<style scoped>\n",
       "    .dataframe tbody tr th:only-of-type {\n",
       "        vertical-align: middle;\n",
       "    }\n",
       "\n",
       "    .dataframe tbody tr th {\n",
       "        vertical-align: top;\n",
       "    }\n",
       "\n",
       "    .dataframe thead th {\n",
       "        text-align: right;\n",
       "    }\n",
       "</style>\n",
       "<table border=\"1\" class=\"dataframe\">\n",
       "  <thead>\n",
       "    <tr style=\"text-align: right;\">\n",
       "      <th></th>\n",
       "      <th>Borough</th>\n",
       "      <th>PostalCode</th>\n",
       "      <th>Neighborhood</th>\n",
       "      <th>Latitude</th>\n",
       "      <th>Longitude</th>\n",
       "    </tr>\n",
       "  </thead>\n",
       "  <tbody>\n",
       "    <tr>\n",
       "      <th>0</th>\n",
       "      <td>Central Toronto</td>\n",
       "      <td>M4N</td>\n",
       "      <td>Lawrence Park, Roselawn, Davisville North, For...</td>\n",
       "      <td>43.728020</td>\n",
       "      <td>-79.388790</td>\n",
       "    </tr>\n",
       "    <tr>\n",
       "      <th>1</th>\n",
       "      <td>Downtown Toronto</td>\n",
       "      <td>M5A</td>\n",
       "      <td>Harbourfront, Regent Park, Ryerson, Garden Dis...</td>\n",
       "      <td>43.654260</td>\n",
       "      <td>-79.360636</td>\n",
       "    </tr>\n",
       "    <tr>\n",
       "      <th>2</th>\n",
       "      <td>East Toronto</td>\n",
       "      <td>M4E</td>\n",
       "      <td>The Beaches, The Danforth West, Riverdale, The...</td>\n",
       "      <td>43.676357</td>\n",
       "      <td>-79.293031</td>\n",
       "    </tr>\n",
       "    <tr>\n",
       "      <th>3</th>\n",
       "      <td>East York</td>\n",
       "      <td>M4B</td>\n",
       "      <td>Woodbine Gardens, Parkview Hill, Woodbine Heig...</td>\n",
       "      <td>43.706397</td>\n",
       "      <td>-79.309937</td>\n",
       "    </tr>\n",
       "    <tr>\n",
       "      <th>4</th>\n",
       "      <td>Etobicoke</td>\n",
       "      <td>M9A</td>\n",
       "      <td>Islington Avenue, Cloverdale, Islington, Marti...</td>\n",
       "      <td>43.667856</td>\n",
       "      <td>-79.532242</td>\n",
       "    </tr>\n",
       "    <tr>\n",
       "      <th>5</th>\n",
       "      <td>Mississauga</td>\n",
       "      <td>M7R</td>\n",
       "      <td>Canada Post Gateway Processing Centre</td>\n",
       "      <td>43.636966</td>\n",
       "      <td>-79.615819</td>\n",
       "    </tr>\n",
       "    <tr>\n",
       "      <th>6</th>\n",
       "      <td>North York</td>\n",
       "      <td>M3A</td>\n",
       "      <td>Parkwoods, Victoria Village, Lawrence Heights,...</td>\n",
       "      <td>43.753259</td>\n",
       "      <td>-79.329656</td>\n",
       "    </tr>\n",
       "    <tr>\n",
       "      <th>7</th>\n",
       "      <td>Queen's Park</td>\n",
       "      <td>M7A</td>\n",
       "      <td>Queen's Park</td>\n",
       "      <td>43.662301</td>\n",
       "      <td>-79.389494</td>\n",
       "    </tr>\n",
       "    <tr>\n",
       "      <th>8</th>\n",
       "      <td>Scarborough</td>\n",
       "      <td>M1B</td>\n",
       "      <td>Rouge, Malvern, Highland Creek, Rouge Hill, Po...</td>\n",
       "      <td>43.806686</td>\n",
       "      <td>-79.194353</td>\n",
       "    </tr>\n",
       "    <tr>\n",
       "      <th>9</th>\n",
       "      <td>West Toronto</td>\n",
       "      <td>M6H</td>\n",
       "      <td>Dovercourt Village, Dufferin, Little Portugal,...</td>\n",
       "      <td>43.669005</td>\n",
       "      <td>-79.442259</td>\n",
       "    </tr>\n",
       "    <tr>\n",
       "      <th>10</th>\n",
       "      <td>York</td>\n",
       "      <td>M6C</td>\n",
       "      <td>Humewood-Cedarvale, Caledonia-Fairbanks, Del R...</td>\n",
       "      <td>43.693781</td>\n",
       "      <td>-79.428191</td>\n",
       "    </tr>\n",
       "  </tbody>\n",
       "</table>\n",
       "</div>"
      ],
      "text/plain": [
       "             Borough PostalCode  \\\n",
       "0    Central Toronto        M4N   \n",
       "1   Downtown Toronto        M5A   \n",
       "2       East Toronto        M4E   \n",
       "3          East York        M4B   \n",
       "4          Etobicoke        M9A   \n",
       "5        Mississauga        M7R   \n",
       "6         North York        M3A   \n",
       "7       Queen's Park        M7A   \n",
       "8        Scarborough        M1B   \n",
       "9       West Toronto        M6H   \n",
       "10              York        M6C   \n",
       "\n",
       "                                         Neighborhood   Latitude  Longitude  \n",
       "0   Lawrence Park, Roselawn, Davisville North, For...  43.728020 -79.388790  \n",
       "1   Harbourfront, Regent Park, Ryerson, Garden Dis...  43.654260 -79.360636  \n",
       "2   The Beaches, The Danforth West, Riverdale, The...  43.676357 -79.293031  \n",
       "3   Woodbine Gardens, Parkview Hill, Woodbine Heig...  43.706397 -79.309937  \n",
       "4   Islington Avenue, Cloverdale, Islington, Marti...  43.667856 -79.532242  \n",
       "5               Canada Post Gateway Processing Centre  43.636966 -79.615819  \n",
       "6   Parkwoods, Victoria Village, Lawrence Heights,...  43.753259 -79.329656  \n",
       "7                                        Queen's Park  43.662301 -79.389494  \n",
       "8   Rouge, Malvern, Highland Creek, Rouge Hill, Po...  43.806686 -79.194353  \n",
       "9   Dovercourt Village, Dufferin, Little Portugal,...  43.669005 -79.442259  \n",
       "10  Humewood-Cedarvale, Caledonia-Fairbanks, Del R...  43.693781 -79.428191  "
      ]
     },
     "execution_count": 17,
     "metadata": {},
     "output_type": "execute_result"
    }
   ],
   "source": [
    "new_df = pd.merge(df, geo_coords, how=\"inner\", on=\"PostalCode\")\n",
    "new_df"
   ]
  },
  {
   "cell_type": "code",
   "execution_count": null,
   "metadata": {},
   "outputs": [],
   "source": []
  }
 ],
 "metadata": {
  "kernelspec": {
   "display_name": "Python 3",
   "language": "python",
   "name": "python3"
  },
  "language_info": {
   "codemirror_mode": {
    "name": "ipython",
    "version": 3
   },
   "file_extension": ".py",
   "mimetype": "text/x-python",
   "name": "python",
   "nbconvert_exporter": "python",
   "pygments_lexer": "ipython3",
   "version": "3.6.5"
  }
 },
 "nbformat": 4,
 "nbformat_minor": 2
}
