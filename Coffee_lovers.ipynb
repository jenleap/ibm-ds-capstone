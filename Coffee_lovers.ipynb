{
 "cells": [
  {
   "cell_type": "markdown",
   "metadata": {},
   "source": [
    "<h1>Neighbourhood Coffee Lovers</h1>"
   ]
  },
  {
   "cell_type": "markdown",
   "metadata": {},
   "source": [
    "<h3>Introduction</h3>\n",
    "<p>According to the Coffee Association of Canada, in a 2017 study, 71% of participants responded that they had consumed coffee the previous day. This presents a huge opportunity for potential business owners wanting to open a coffee house.</p>\n",
    "<p>This report will serve such entreprenerus and will aim to identity which areas in Toronto present the most opportunity for opening a coffee house. It will attempt to identify which areas are already saturated with coffee houses and which areas are lacking. The areas that are lacking will likely have the most potential.</p>"
   ]
  },
  {
   "cell_type": "markdown",
   "metadata": {},
   "source": [
    "<h3>Data</h3>\n",
    "<p>This report will use the Foursquare location data to show the locations of current coffee houses.</p>\n",
    "<p>Population data from the Stats Canada 2016 Census will be used to show population density for all Toronto areas. This data will be combined with current coffee house locations to produce a per capita coffee house estimate. Areas where these numbers are low will be identified.</p>\n",
    "<p>Also, the Foursquare data will be used to gauge popularity of current coffee locations but examining the number of Checkins and Ratings. There may be opportunity in areas of medium coffee saturation but where current coffee locations have poor ratings.</p>"
   ]
  },
  {
   "cell_type": "code",
   "execution_count": null,
   "metadata": {},
   "outputs": [],
   "source": []
  }
 ],
 "metadata": {
  "kernelspec": {
   "display_name": "Python 3",
   "language": "python",
   "name": "python3"
  },
  "language_info": {
   "codemirror_mode": {
    "name": "ipython",
    "version": 3
   },
   "file_extension": ".py",
   "mimetype": "text/x-python",
   "name": "python",
   "nbconvert_exporter": "python",
   "pygments_lexer": "ipython3",
   "version": "3.6.5"
  }
 },
 "nbformat": 4,
 "nbformat_minor": 2
}
