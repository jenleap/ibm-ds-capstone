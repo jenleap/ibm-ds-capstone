{
 "cells": [
  {
   "cell_type": "markdown",
   "metadata": {},
   "source": [
    "<h1>Coffee Lovers of Toronto</h1>"
   ]
  },
  {
   "cell_type": "markdown",
   "metadata": {},
   "source": [
    "<h4>INTRODUCTION</h4>"
   ]
  },
  {
   "cell_type": "markdown",
   "metadata": {},
   "source": [
    "<p>According to the Coffee Association of Canada, in a 2017 study, 71% of participants responded that they had consumed coffee the previous day. Obviously, we are a population who loves coffee. This offers a huge market for entrepreneurs who want to satisfy this desire for coffee.</p> \n",
    "<p>This report will serve such entrepreneurs. It will analyze the distribution of coffee houses in Toronto with the goal of identifying areas in Toronto that present the most opportunity for opening a coffee house.</p>"
   ]
  },
  {
   "cell_type": "markdown",
   "metadata": {},
   "source": [
    "<h4>DATA</h4>"
   ]
  },
  {
   "cell_type": "markdown",
   "metadata": {},
   "source": [
    "<p>This report will be analyzing data from the Foursquare API, which provides detailed location information, including name of location, categories for the location, geographical coordinates of the location, etc. This data will be used to determine the number and location of coffee houses in Toronto.</p>\n",
    "<p>In addition, neighborhood data from the Open Data Project with the City of Toronto will be used to create a list of neighbourhoods and population. With data from this file, the software, Geosoft, was used to determine the centroid point and radius of each neighborhood. This data was added as columns to the neighborhood file.</p>"
   ]
  },
  {
   "cell_type": "markdown",
   "metadata": {},
   "source": [
    "<h4>METHODOLOGY</h4>"
   ]
  },
  {
   "cell_type": "markdown",
   "metadata": {},
   "source": [
    "<p>The neighbourhood data will be used to query Foursquare for locations labelled as 'coffee', giving the radius and center point for each neighborhood. From Foursquare, a list of coffee houses per neighbourhood will be obtained. The number of coffee houses per neighborhood will be counted.</p>\n",
    "<p>This data will be consolidated in a table so that we have a list of Toronto neighbourhoods, the number of coffee locations per neighbourhood and the population for that neighbourhood. The ratio of population per coffee house will be calculated for each neighborhood.</p>"
   ]
  },
  {
   "cell_type": "markdown",
   "metadata": {},
   "source": [
    "<h4>RESULTS</h4>"
   ]
  },
  {
   "cell_type": "markdown",
   "metadata": {},
   "source": [
    "<p>The top five neighborhoods with the highest population to coffee house ratio will be determined. These neighborhoods have the fewest coffee houses per population and thus seem to offer the most opportunity and space for opening a new coffee house. These neighborhoods are: Steeles, Lansing-Westgate, Cliffcrest, Glenfield-Jane Heights, and Malvern.</p>"
   ]
  },
  {
   "cell_type": "markdown",
   "metadata": {},
   "source": [
    "<h4>DISCUSSION</h4>"
   ]
  },
  {
   "cell_type": "markdown",
   "metadata": {},
   "source": [
    "<p>Distribution of coffee locations and population may not be the only factors to take into consideration when looking at neighborhoods. If we have a neighborhood with few coffee locations, it may be indicative that the neighborhood has little interest in coffee (or perhaps little interest in purchasing their coffee from a coffee house). While this report provides a solid starting to place to narrow down potential neighborhoods, more research should be done in order to understand the population where a potential coffee house would be opened. Demographics of these neighborhoods might be investigated more thoroughly; factors such as income and crime rate could effect the success of coffee houses in the neighborhood.</p>"
   ]
  },
  {
   "cell_type": "markdown",
   "metadata": {},
   "source": [
    "<h4>CONCLUSION</h4>"
   ]
  },
  {
   "cell_type": "markdown",
   "metadata": {},
   "source": [
    "<p>This report considers current distribution of coffee locations in relation to population as a means to discern the best neighborhood for opening a new coffee location. With this in mind, the following neighborhoods have the lowest distribution of coffee locations per population and thus present the most opportunity: Steeles, Lansing-Westgate, Cliffcrest, Glenfield-Jane Heights, and Malvern.</p>"
   ]
  },
  {
   "cell_type": "code",
   "execution_count": null,
   "metadata": {},
   "outputs": [],
   "source": []
  }
 ],
 "metadata": {
  "kernelspec": {
   "display_name": "Python 3",
   "language": "python",
   "name": "python3"
  },
  "language_info": {
   "codemirror_mode": {
    "name": "ipython",
    "version": 3
   },
   "file_extension": ".py",
   "mimetype": "text/x-python",
   "name": "python",
   "nbconvert_exporter": "python",
   "pygments_lexer": "ipython3",
   "version": "3.7.1"
  }
 },
 "nbformat": 4,
 "nbformat_minor": 2
}
